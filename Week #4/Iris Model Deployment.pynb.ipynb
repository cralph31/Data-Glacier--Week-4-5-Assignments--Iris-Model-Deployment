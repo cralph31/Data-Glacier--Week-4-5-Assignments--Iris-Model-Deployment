{
 "cells": [
  {
   "cell_type": "markdown",
   "id": "a2862bf9-330d-480f-8f86-f8bf8763523e",
   "metadata": {},
   "source": [
    "## Model Deployment Using Flask- Carmelo R. Casiraro, USA- Batch: - Week #4 Assignment- Data Glacier Internship"
   ]
  },
  {
   "cell_type": "markdown",
   "id": "3b0ff4ff-18a6-442f-9ce1-67fef694cf69",
   "metadata": {},
   "source": [
    "## Carmelo R. Casiraro\n",
    "## BATCH CODE: LISUM34\n",
    "## SUBMIT DATE: 06/23/24"
   ]
  },
  {
   "cell_type": "markdown",
   "id": "bac5d82b-6ee8-43f4-b6c9-79166179ba88",
   "metadata": {},
   "source": [
    "Step 1- Pick Iris Toy Data Set"
   ]
  },
  {
   "cell_type": "markdown",
   "id": "5a2c3ab2-781a-4416-9a22-24de43bd542a",
   "metadata": {
    "scrolled": true
   },
   "source": [
    "![title](step1_image_irisdataset.png)"
   ]
  },
  {
   "cell_type": "markdown",
   "id": "c157062b-0d29-438c-bd2c-fd443059af61",
   "metadata": {},
   "source": [
    "Step 2- Pre Processing & Modeling Import Libraries "
   ]
  },
  {
   "cell_type": "code",
   "execution_count": 14,
   "id": "b0fc2fee-a460-49a3-a98a-32e44f7b8a14",
   "metadata": {},
   "outputs": [],
   "source": [
    "import pandas as pd\n",
    "from sklearn.ensemble import RandomForestClassifier\n",
    "from sklearn.model_selection import train_test_split\n",
    "from sklearn.metrics import accuracy_score\n",
    "import pickle\n",
    "from flask import Flask, render_template, request"
   ]
  },
  {
   "cell_type": "code",
   "execution_count": 17,
   "id": "73484f04-4e5a-4547-98a7-1c8a9a49f6ed",
   "metadata": {
    "jupyter": {
     "source_hidden": true
    }
   },
   "outputs": [
    {
     "data": {
      "text/html": [
       "<div>\n",
       "<style scoped>\n",
       "    .dataframe tbody tr th:only-of-type {\n",
       "        vertical-align: middle;\n",
       "    }\n",
       "\n",
       "    .dataframe tbody tr th {\n",
       "        vertical-align: top;\n",
       "    }\n",
       "\n",
       "    .dataframe thead th {\n",
       "        text-align: right;\n",
       "    }\n",
       "</style>\n",
       "<table border=\"1\" class=\"dataframe\">\n",
       "  <thead>\n",
       "    <tr style=\"text-align: right;\">\n",
       "      <th></th>\n",
       "      <th>Sepal_Length</th>\n",
       "      <th>Sepal_Width</th>\n",
       "      <th>Petal_Length</th>\n",
       "      <th>Petal_Width</th>\n",
       "      <th>Class</th>\n",
       "    </tr>\n",
       "  </thead>\n",
       "  <tbody>\n",
       "    <tr>\n",
       "      <th>0</th>\n",
       "      <td>5.1</td>\n",
       "      <td>3.5</td>\n",
       "      <td>1.4</td>\n",
       "      <td>0.2</td>\n",
       "      <td>Setosa</td>\n",
       "    </tr>\n",
       "    <tr>\n",
       "      <th>1</th>\n",
       "      <td>4.9</td>\n",
       "      <td>3.0</td>\n",
       "      <td>1.4</td>\n",
       "      <td>0.2</td>\n",
       "      <td>Setosa</td>\n",
       "    </tr>\n",
       "    <tr>\n",
       "      <th>2</th>\n",
       "      <td>4.7</td>\n",
       "      <td>3.2</td>\n",
       "      <td>1.3</td>\n",
       "      <td>0.2</td>\n",
       "      <td>Setosa</td>\n",
       "    </tr>\n",
       "    <tr>\n",
       "      <th>3</th>\n",
       "      <td>4.6</td>\n",
       "      <td>3.1</td>\n",
       "      <td>1.5</td>\n",
       "      <td>0.2</td>\n",
       "      <td>Setosa</td>\n",
       "    </tr>\n",
       "    <tr>\n",
       "      <th>4</th>\n",
       "      <td>5.0</td>\n",
       "      <td>3.6</td>\n",
       "      <td>1.4</td>\n",
       "      <td>0.2</td>\n",
       "      <td>Setosa</td>\n",
       "    </tr>\n",
       "    <tr>\n",
       "      <th>...</th>\n",
       "      <td>...</td>\n",
       "      <td>...</td>\n",
       "      <td>...</td>\n",
       "      <td>...</td>\n",
       "      <td>...</td>\n",
       "    </tr>\n",
       "    <tr>\n",
       "      <th>145</th>\n",
       "      <td>6.7</td>\n",
       "      <td>3.0</td>\n",
       "      <td>5.2</td>\n",
       "      <td>2.3</td>\n",
       "      <td>Virginica</td>\n",
       "    </tr>\n",
       "    <tr>\n",
       "      <th>146</th>\n",
       "      <td>6.3</td>\n",
       "      <td>2.5</td>\n",
       "      <td>5.0</td>\n",
       "      <td>1.9</td>\n",
       "      <td>Virginica</td>\n",
       "    </tr>\n",
       "    <tr>\n",
       "      <th>147</th>\n",
       "      <td>6.5</td>\n",
       "      <td>3.0</td>\n",
       "      <td>5.2</td>\n",
       "      <td>2.0</td>\n",
       "      <td>Virginica</td>\n",
       "    </tr>\n",
       "    <tr>\n",
       "      <th>148</th>\n",
       "      <td>6.2</td>\n",
       "      <td>3.4</td>\n",
       "      <td>5.4</td>\n",
       "      <td>2.3</td>\n",
       "      <td>Virginica</td>\n",
       "    </tr>\n",
       "    <tr>\n",
       "      <th>149</th>\n",
       "      <td>5.9</td>\n",
       "      <td>3.0</td>\n",
       "      <td>5.1</td>\n",
       "      <td>1.8</td>\n",
       "      <td>Virginica</td>\n",
       "    </tr>\n",
       "  </tbody>\n",
       "</table>\n",
       "<p>150 rows × 5 columns</p>\n",
       "</div>"
      ],
      "text/plain": [
       "     Sepal_Length  Sepal_Width  Petal_Length  Petal_Width      Class\n",
       "0             5.1          3.5           1.4          0.2     Setosa\n",
       "1             4.9          3.0           1.4          0.2     Setosa\n",
       "2             4.7          3.2           1.3          0.2     Setosa\n",
       "3             4.6          3.1           1.5          0.2     Setosa\n",
       "4             5.0          3.6           1.4          0.2     Setosa\n",
       "..            ...          ...           ...          ...        ...\n",
       "145           6.7          3.0           5.2          2.3  Virginica\n",
       "146           6.3          2.5           5.0          1.9  Virginica\n",
       "147           6.5          3.0           5.2          2.0  Virginica\n",
       "148           6.2          3.4           5.4          2.3  Virginica\n",
       "149           5.9          3.0           5.1          1.8  Virginica\n",
       "\n",
       "[150 rows x 5 columns]"
      ]
     },
     "execution_count": 17,
     "metadata": {},
     "output_type": "execute_result"
    }
   ],
   "source": [
    "data = pd.read_csv('iris.csv')\n",
    "data"
   ]
  },
  {
   "cell_type": "markdown",
   "id": "e2acd598-1ee1-420e-b835-3c90c410272f",
   "metadata": {},
   "source": [
    "Step 3- Split The Data"
   ]
  },
  {
   "cell_type": "code",
   "execution_count": 20,
   "id": "8153f1d4-9f9f-4e0f-a537-da6af82558fc",
   "metadata": {},
   "outputs": [],
   "source": [
    "X = data.drop('Class', axis=1)\n",
    "y = data['Class']\n",
    "x_train, X_test, y_train, y_test = train_test_split(X, y, test_size=0.2, random_state=42)"
   ]
  },
  {
   "cell_type": "markdown",
   "id": "3f8d326c-8071-430e-ae41-cbdb899a8f3e",
   "metadata": {},
   "source": [
    "Step 4- Train Model"
   ]
  },
  {
   "cell_type": "code",
   "execution_count": 23,
   "id": "701bef3a-1695-45bd-ae09-bde0fa061a99",
   "metadata": {},
   "outputs": [
    {
     "data": {
      "text/html": [
       "<style>#sk-container-id-1 {color: black;}#sk-container-id-1 pre{padding: 0;}#sk-container-id-1 div.sk-toggleable {background-color: white;}#sk-container-id-1 label.sk-toggleable__label {cursor: pointer;display: block;width: 100%;margin-bottom: 0;padding: 0.3em;box-sizing: border-box;text-align: center;}#sk-container-id-1 label.sk-toggleable__label-arrow:before {content: \"▸\";float: left;margin-right: 0.25em;color: #696969;}#sk-container-id-1 label.sk-toggleable__label-arrow:hover:before {color: black;}#sk-container-id-1 div.sk-estimator:hover label.sk-toggleable__label-arrow:before {color: black;}#sk-container-id-1 div.sk-toggleable__content {max-height: 0;max-width: 0;overflow: hidden;text-align: left;background-color: #f0f8ff;}#sk-container-id-1 div.sk-toggleable__content pre {margin: 0.2em;color: black;border-radius: 0.25em;background-color: #f0f8ff;}#sk-container-id-1 input.sk-toggleable__control:checked~div.sk-toggleable__content {max-height: 200px;max-width: 100%;overflow: auto;}#sk-container-id-1 input.sk-toggleable__control:checked~label.sk-toggleable__label-arrow:before {content: \"▾\";}#sk-container-id-1 div.sk-estimator input.sk-toggleable__control:checked~label.sk-toggleable__label {background-color: #d4ebff;}#sk-container-id-1 div.sk-label input.sk-toggleable__control:checked~label.sk-toggleable__label {background-color: #d4ebff;}#sk-container-id-1 input.sk-hidden--visually {border: 0;clip: rect(1px 1px 1px 1px);clip: rect(1px, 1px, 1px, 1px);height: 1px;margin: -1px;overflow: hidden;padding: 0;position: absolute;width: 1px;}#sk-container-id-1 div.sk-estimator {font-family: monospace;background-color: #f0f8ff;border: 1px dotted black;border-radius: 0.25em;box-sizing: border-box;margin-bottom: 0.5em;}#sk-container-id-1 div.sk-estimator:hover {background-color: #d4ebff;}#sk-container-id-1 div.sk-parallel-item::after {content: \"\";width: 100%;border-bottom: 1px solid gray;flex-grow: 1;}#sk-container-id-1 div.sk-label:hover label.sk-toggleable__label {background-color: #d4ebff;}#sk-container-id-1 div.sk-serial::before {content: \"\";position: absolute;border-left: 1px solid gray;box-sizing: border-box;top: 0;bottom: 0;left: 50%;z-index: 0;}#sk-container-id-1 div.sk-serial {display: flex;flex-direction: column;align-items: center;background-color: white;padding-right: 0.2em;padding-left: 0.2em;position: relative;}#sk-container-id-1 div.sk-item {position: relative;z-index: 1;}#sk-container-id-1 div.sk-parallel {display: flex;align-items: stretch;justify-content: center;background-color: white;position: relative;}#sk-container-id-1 div.sk-item::before, #sk-container-id-1 div.sk-parallel-item::before {content: \"\";position: absolute;border-left: 1px solid gray;box-sizing: border-box;top: 0;bottom: 0;left: 50%;z-index: -1;}#sk-container-id-1 div.sk-parallel-item {display: flex;flex-direction: column;z-index: 1;position: relative;background-color: white;}#sk-container-id-1 div.sk-parallel-item:first-child::after {align-self: flex-end;width: 50%;}#sk-container-id-1 div.sk-parallel-item:last-child::after {align-self: flex-start;width: 50%;}#sk-container-id-1 div.sk-parallel-item:only-child::after {width: 0;}#sk-container-id-1 div.sk-dashed-wrapped {border: 1px dashed gray;margin: 0 0.4em 0.5em 0.4em;box-sizing: border-box;padding-bottom: 0.4em;background-color: white;}#sk-container-id-1 div.sk-label label {font-family: monospace;font-weight: bold;display: inline-block;line-height: 1.2em;}#sk-container-id-1 div.sk-label-container {text-align: center;}#sk-container-id-1 div.sk-container {/* jupyter's `normalize.less` sets `[hidden] { display: none; }` but bootstrap.min.css set `[hidden] { display: none !important; }` so we also need the `!important` here to be able to override the default hidden behavior on the sphinx rendered scikit-learn.org. See: https://github.com/scikit-learn/scikit-learn/issues/21755 */display: inline-block !important;position: relative;}#sk-container-id-1 div.sk-text-repr-fallback {display: none;}</style><div id=\"sk-container-id-1\" class=\"sk-top-container\"><div class=\"sk-text-repr-fallback\"><pre>RandomForestClassifier(random_state=42)</pre><b>In a Jupyter environment, please rerun this cell to show the HTML representation or trust the notebook. <br />On GitHub, the HTML representation is unable to render, please try loading this page with nbviewer.org.</b></div><div class=\"sk-container\" hidden><div class=\"sk-item\"><div class=\"sk-estimator sk-toggleable\"><input class=\"sk-toggleable__control sk-hidden--visually\" id=\"sk-estimator-id-1\" type=\"checkbox\" checked><label for=\"sk-estimator-id-1\" class=\"sk-toggleable__label sk-toggleable__label-arrow\">RandomForestClassifier</label><div class=\"sk-toggleable__content\"><pre>RandomForestClassifier(random_state=42)</pre></div></div></div></div></div>"
      ],
      "text/plain": [
       "RandomForestClassifier(random_state=42)"
      ]
     },
     "execution_count": 23,
     "metadata": {},
     "output_type": "execute_result"
    }
   ],
   "source": [
    "model = RandomForestClassifier(n_estimators=100, random_state=42)\n",
    "model.fit(x_train, y_train)"
   ]
  },
  {
   "cell_type": "markdown",
   "id": "3d692ca0-3275-48e5-b044-2cf99abab11a",
   "metadata": {},
   "source": [
    "Step 5- Analyze Model"
   ]
  },
  {
   "cell_type": "code",
   "execution_count": 26,
   "id": "dd75f4aa-6382-4cdb-8440-0e4786b0b766",
   "metadata": {},
   "outputs": [
    {
     "name": "stdout",
     "output_type": "stream",
     "text": [
      "Model Accuracy: 1.0\n"
     ]
    }
   ],
   "source": [
    "y_pred = model.predict(X_test)\n",
    "accuracy = accuracy_score(y_test, y_pred)\n",
    "print('Model Accuracy:', accuracy)"
   ]
  },
  {
   "cell_type": "markdown",
   "id": "0472b682-1c52-42c1-8fbd-e24aff391325",
   "metadata": {},
   "source": [
    "Step 6- Create PKL file"
   ]
  },
  {
   "cell_type": "code",
   "execution_count": 29,
   "id": "c17fa122-454f-4b36-94fb-17871d706901",
   "metadata": {},
   "outputs": [],
   "source": [
    "with open('model.pkl', 'wb') as file:\n",
    "    pickle.dump(model, file)"
   ]
  },
  {
   "cell_type": "code",
   "execution_count": 33,
   "id": "9c5ec7b3-ff3f-4d47-b1f0-e989e26203b6",
   "metadata": {},
   "outputs": [
    {
     "name": "stdout",
     "output_type": "stream",
     "text": [
      "1.3.0\n"
     ]
    }
   ],
   "source": [
    "import sklearn\n",
    "print(sklearn.__version__)"
   ]
  },
  {
   "cell_type": "code",
   "execution_count": 35,
   "id": "682a17ef-1f72-490f-a3f3-571d69525e4b",
   "metadata": {},
   "outputs": [
    {
     "name": "stdout",
     "output_type": "stream",
     "text": [
      "Defaulting to user installation because normal site-packages is not writeable\n",
      "Looking in links: /usr/share/pip-wheels\n",
      "Collecting scikit-learn==1.5.0\n",
      "  Downloading scikit_learn-1.5.0-cp310-cp310-manylinux_2_17_x86_64.manylinux2014_x86_64.whl.metadata (11 kB)\n",
      "Requirement already satisfied: numpy>=1.19.5 in /opt/conda/envs/anaconda-2024.02-py310/lib/python3.10/site-packages (from scikit-learn==1.5.0) (1.26.4)\n",
      "Requirement already satisfied: scipy>=1.6.0 in /opt/conda/envs/anaconda-2024.02-py310/lib/python3.10/site-packages (from scikit-learn==1.5.0) (1.12.0)\n",
      "Requirement already satisfied: joblib>=1.2.0 in /opt/conda/envs/anaconda-2024.02-py310/lib/python3.10/site-packages (from scikit-learn==1.5.0) (1.2.0)\n",
      "Collecting threadpoolctl>=3.1.0 (from scikit-learn==1.5.0)\n",
      "  Downloading threadpoolctl-3.5.0-py3-none-any.whl.metadata (13 kB)\n",
      "Downloading scikit_learn-1.5.0-cp310-cp310-manylinux_2_17_x86_64.manylinux2014_x86_64.whl (13.3 MB)\n",
      "\u001b[2K   \u001b[38;5;70m━━━━━━━━━━━━━━━━━━━━━━━━━━━━━━━━━━━━━━━━\u001b[0m \u001b[32m13.3/13.3 MB\u001b[0m \u001b[31m59.5 MB/s\u001b[0m eta \u001b[36m0:00:00\u001b[0m \u001b[36m0:00:01\u001b[0m[36m0:00:01\u001b[0m\n",
      "\u001b[?25hDownloading threadpoolctl-3.5.0-py3-none-any.whl (18 kB)\n",
      "Installing collected packages: threadpoolctl, scikit-learn\n",
      "Successfully installed scikit-learn-1.5.0 threadpoolctl-3.5.0\n"
     ]
    }
   ],
   "source": [
    "import sys\n",
    "!{sys.executable} -m pip install scikit-learn==1.5.0"
   ]
  },
  {
   "cell_type": "markdown",
   "id": "8d4b04b2-f533-4226-b51c-7d0aa6650ea2",
   "metadata": {},
   "source": [
    "## Step 7- Created Html and CSS files for Web Page Deployment"
   ]
  },
  {
   "cell_type": "markdown",
   "id": "00e8d377-41fe-450c-b47e-ba15d0ebe300",
   "metadata": {},
   "source": [
    "## Step 7.1- index.html file- input the values to predict"
   ]
  },
  {
   "cell_type": "markdown",
   "id": "029a0e33-d989-415f-bc16-5f06fb2293f8",
   "metadata": {},
   "source": [
    "![title](step7_htmlcode_image.png)"
   ]
  },
  {
   "cell_type": "markdown",
   "id": "d0417def-ee13-407e-b6ac-0cc62adfdac7",
   "metadata": {},
   "source": [
    "## Step 7.2- result.html file- this shows the predicted results"
   ]
  },
  {
   "cell_type": "markdown",
   "id": "dd48abb9-ae1d-46b1-b16e-07b4001b9a52",
   "metadata": {},
   "source": [
    "![title](step7.2-resulthtmlcode_image.png)"
   ]
  },
  {
   "cell_type": "markdown",
   "id": "5fc21283-5b0a-4378-ba8f-a5e41d94eebb",
   "metadata": {},
   "source": [
    "## Step 7.3- styles.css file- this formats the web page"
   ]
  },
  {
   "cell_type": "markdown",
   "id": "ef885d92-5327-439a-ab85-ecde35e6405e",
   "metadata": {},
   "source": [
    "![title](step7.3-stylescsscode-image.png)"
   ]
  },
  {
   "cell_type": "markdown",
   "id": "554fb220-9f71-4f8b-bfde-7158d004479c",
   "metadata": {},
   "source": [
    "## Step 8- Create a Flask Application"
   ]
  },
  {
   "cell_type": "markdown",
   "id": "23313828-2a8a-4d0b-9c1c-bfbe89fb84ce",
   "metadata": {},
   "source": [
    "![title](step8_flaskappcode_image.png)"
   ]
  },
  {
   "cell_type": "markdown",
   "id": "f0c27c3f-c2cd-4431-84e2-3824f4e2acdb",
   "metadata": {},
   "source": [
    "## Step 9- Deploy Application Using Command Prompt"
   ]
  },
  {
   "cell_type": "markdown",
   "id": "759e9721-514f-4cd4-958c-7a8463403ab2",
   "metadata": {},
   "source": [
    "![title](step9_deployapplicationcode_image.png)"
   ]
  },
  {
   "cell_type": "markdown",
   "id": "2177497c-5aa1-4d60-9182-3391ae93b813",
   "metadata": {},
   "source": [
    "## Step 10- Web Page Test"
   ]
  },
  {
   "cell_type": "markdown",
   "id": "95ad6dde-2d72-458c-ac72-d49317ebb373",
   "metadata": {},
   "source": [
    "![title](step10_webpagetest_image.png)"
   ]
  },
  {
   "cell_type": "markdown",
   "id": "c2a3342b-4751-403f-a872-9f1cc315958f",
   "metadata": {},
   "source": [
    "## Step 11- Predicted Result "
   ]
  },
  {
   "cell_type": "markdown",
   "id": "90d683ed-35d0-4290-b10b-563febc2adf6",
   "metadata": {},
   "source": [
    "![title](step11_predictedresult_image.png)"
   ]
  },
  {
   "cell_type": "code",
   "execution_count": 55,
   "id": "9a630a15-f4b0-48b9-8148-33dfc0903df5",
   "metadata": {},
   "outputs": [
    {
     "ename": "SyntaxError",
     "evalue": "invalid syntax (1642277946.py, line 2)",
     "output_type": "error",
     "traceback": [
      "\u001b[0;36m  Cell \u001b[0;32mIn[55], line 2\u001b[0;36m\u001b[0m\n\u001b[0;31m    - This project involved creating a machine learning model to predict the species of a Iris flower\u001b[0m\n\u001b[0m           ^\u001b[0m\n\u001b[0;31mSyntaxError\u001b[0m\u001b[0;31m:\u001b[0m invalid syntax\n"
     ]
    }
   ],
   "source": [
    "##Summary of Project\n",
    "# - This project involved creating a machine learning model to predict the species of a Iris flower\n",
    "# based on sepal and petal dimensions.\n",
    "# - The Iris data set was used to train and test the model.\n",
    "# - The model was built using Python sklearn library.\n",
    "# - A flask application was created allowing users to input different numbers for\n",
    "# dimensions to predict the type of flower.\n",
    "# - Then, html files were created. First file was index.html file to inputing values, the\n",
    "# second file was a results.html file to predict the results.\n",
    "# - The application was then deployed using Visual studio code using command prompt.\n",
    "# - After deployment, user inputed values for dimensions for flower then clicked Submit.\n",
    "- The result of the submission, showed the flower predicted as Virginica. \n",
    "In conclusion, this project shows how to create a machine learning model & web application,\n",
    "then, finally deploying it all using a Flask application."
   ]
  },
  {
   "cell_type": "code",
   "execution_count": null,
   "id": "b126a1d0-624d-4db9-a714-04c74e1e0cd8",
   "metadata": {},
   "outputs": [],
   "source": []
  }
 ],
 "metadata": {
  "kernelspec": {
   "display_name": "anaconda-2024.02-py310",
   "language": "python",
   "name": "conda-env-anaconda-2024.02-py310-py"
  },
  "language_info": {
   "codemirror_mode": {
    "name": "ipython",
    "version": 3
   },
   "file_extension": ".py",
   "mimetype": "text/x-python",
   "name": "python",
   "nbconvert_exporter": "python",
   "pygments_lexer": "ipython3",
   "version": "3.10.14"
  }
 },
 "nbformat": 4,
 "nbformat_minor": 5
}
